{
 "metadata": {
  "name": "",
  "signature": "sha256:b70bf529276cfe43338021260579dcad4ae807cb4c4c4fa46752234760f5d4ef"
 },
 "nbformat": 3,
 "nbformat_minor": 0,
 "worksheets": []
}